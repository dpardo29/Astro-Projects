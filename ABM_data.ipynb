{
 "cells": [
  {
   "cell_type": "code",
   "execution_count": 10,
   "id": "44fd92f3",
   "metadata": {},
   "outputs": [],
   "source": [
    "import corner\n",
    "import numpy as np\n",
    "import matplotlib.pyplot as plt\n",
    "import pandas as pd\n",
    "import seaborn as sns\n",
    "from scipy.optimize import curve_fit\n",
    "\n",
    "from scipy.stats import norm\n",
    "import matplotlib.mlab as mlab\n",
    "# if import corner not working, type \"pip install corner\""
   ]
  },
  {
   "cell_type": "code",
   "execution_count": 11,
   "id": "3e976377",
   "metadata": {
    "scrolled": false
   },
   "outputs": [
    {
     "ename": "TypeError",
     "evalue": "unhashable type: 'list'",
     "output_type": "error",
     "traceback": [
      "\u001b[0;31m---------------------------------------------------------------------------\u001b[0m",
      "\u001b[0;31mTypeError\u001b[0m                                 Traceback (most recent call last)",
      "Cell \u001b[0;32mIn[11], line 26\u001b[0m\n\u001b[1;32m     23\u001b[0m         odd_num\u001b[38;5;241m.\u001b[39mappend(num)\n\u001b[1;32m     24\u001b[0m \u001b[38;5;66;03m####\u001b[39;00m\n\u001b[0;32m---> 26\u001b[0m numfiles \u001b[38;5;241m=\u001b[39m {odd_num\n\u001b[1;32m     27\u001b[0m }\n\u001b[1;32m     29\u001b[0m \u001b[38;5;66;03m# Initialize an empty list to store mean values\u001b[39;00m\n\u001b[1;32m     30\u001b[0m counts \u001b[38;5;241m=\u001b[39m []\n",
      "\u001b[0;31mTypeError\u001b[0m: unhashable type: 'list'"
     ]
    }
   ],
   "source": [
    "# neutral ABM counts vs energy-H+\n",
    "\n",
    "import pandas as pd\n",
    "import glob\n",
    "import numpy as np\n",
    "import matplotlib.pyplot as plt\n",
    "\n",
    "# Get a list of all CSV files in a directory\n",
    "csv_files = glob.glob('HVPS-ABM-Data-2024.03.16_ABM_cal/*.csv')\n",
    "\n",
    "# Create an empty dataframe to store the combined data\n",
    "combined_df = pd.DataFrame()\n",
    "\n",
    "### creating a list of ODD numbers\n",
    "start, end = 8,62\n",
    "\n",
    "odd_num = []\n",
    "# iterating each number in list\n",
    "for num in range(start, end + 1):\n",
    "     \n",
    "    # checking condition\n",
    "    if num % 2 != 0:\n",
    "        odd_num.append(num)\n",
    "####\n",
    "\n",
    "numfiles = {odd_num\n",
    "}\n",
    "\n",
    "# Initialize an empty list to store mean values\n",
    "counts = []\n",
    "\n",
    "for m in numfiles:\n",
    "    for n in numfiles[m]:\n",
    "        string_csv = list('HVPS-ABM-Data-2024.03.16_ABM_cal/ABM-Counts_2024.03.16_'+ str(n) + '.csv')\n",
    "        filename = ''.join(map(str, string_csv))\n",
    "        df = pd.read_csv(filename)\n",
    "        # Calculate the mean of only the first five indices of 'COIN Rate' column\n",
    "        data = df.loc[:4, 'COIN Rate'].mean()\n",
    "        counts.append(data)\n",
    "\n",
    "# Convert counts to a numpy array\n",
    "counts_array = np.array(counts)\n",
    "\n",
    "# Reshape counts_array into a 2D array\n",
    "counts_array_2d = counts_array.reshape((len(numfiles), -1))\n",
    "\n",
    "# Create a 2D histogram manually\n",
    "hist = np.zeros((len(numfiles), len(numfiles[0])))\n",
    "\n",
    "for i in range(len(numfiles)):\n",
    "    for j in range(len(numfiles[0])):\n",
    "        hist[i, j] = counts_array_2d[i, j]\n",
    "\n",
    "# Transpose the hist array\n",
    "hist_transposed = hist.T\n",
    "\n",
    "# Plot the transposed histogram\n",
    "plt.imshow(hist_transposed, origin='lower', aspect='auto')\n",
    "plt.xlabel('Bias Plate Potential (V)')\n",
    "plt.ylabel('Incident Angle')\n",
    "plt.colorbar(label='Mean COIN Rate')\n",
    "plt.title('2D Histogram of Mean COIN Rate')\n",
    "\n",
    "# Adjust y-axis ticks to range from -8 to +7\n",
    "plt.yticks(np.arange(16), np.arange(-8, 8))\n",
    "\n",
    "ev = np.round(np.arange(-105, -181, -5))\n",
    "\n",
    "# Adjust x-axis ticks to match potential voltage range\n",
    "plt.xticks(np.arange(16), ev, rotation=45, ha='right')\n",
    "\n",
    "plt.tight_layout()\n",
    "plt.show()"
   ]
  },
  {
   "cell_type": "code",
   "execution_count": null,
   "id": "716a3a22",
   "metadata": {},
   "outputs": [],
   "source": []
  }
 ],
 "metadata": {
  "kernelspec": {
   "display_name": "Python 3 (ipykernel)",
   "language": "python",
   "name": "python3"
  },
  "language_info": {
   "codemirror_mode": {
    "name": "ipython",
    "version": 3
   },
   "file_extension": ".py",
   "mimetype": "text/x-python",
   "name": "python",
   "nbconvert_exporter": "python",
   "pygments_lexer": "ipython3",
   "version": "3.9.13"
  }
 },
 "nbformat": 4,
 "nbformat_minor": 5
}
